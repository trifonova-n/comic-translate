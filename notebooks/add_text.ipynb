{
 "cells": [
  {
   "cell_type": "code",
   "execution_count": null,
   "metadata": {},
   "outputs": [],
   "source": [
    "%pylab inline\n",
    "%load_ext autoreload\n",
    "%autoreload 2\n",
    "from fastai.vision import *\n",
    "from pathlib import Path\n",
    "from PIL import Image, ImageDraw, ImageFont\n",
    "from utils.text import write_text, multiline_text, write_contour\n",
    "from dataset.dataset_generator import TextGenerator"
   ]
  },
  {
   "cell_type": "code",
   "execution_count": null,
   "metadata": {},
   "outputs": [],
   "source": [
    "path_img = Path(\"../data/clean/shokugeki_no_soma/31\")"
   ]
  },
  {
   "cell_type": "code",
   "execution_count": null,
   "metadata": {},
   "outputs": [],
   "source": [
    "image = Image.open(path_img / '2.png')\n",
    "image = image.convert('RGB')\n",
    "# initialise the drawing context with\n",
    "# the image object as background\n",
    " \n",
    "#draw = ImageDraw.Draw(image)"
   ]
  },
  {
   "cell_type": "code",
   "execution_count": null,
   "metadata": {},
   "outputs": [],
   "source": [
    "font = ImageFont.truetype('../fonts/adam.ttf', size=45)"
   ]
  },
  {
   "cell_type": "code",
   "execution_count": null,
   "metadata": {},
   "outputs": [],
   "source": [
    "# starting position of the message\n",
    " \n",
    "(x, y) = (200, 200)\n",
    "message = \"Happy Birthday! jbjbk ljlki ojiioip\"\n",
    "color = 'rgb(0, 0, 0)' # black color\n",
    "# draw the message on the background\n",
    "text_generator = TextGenerator('../data/replics.txt')\n",
    "text_generator.generate(image, generate_mask=False)\n",
    "text_generator.generate(image, generate_mask=False)\n",
    "text_generator.generate(image, generate_mask=False)\n",
    "print(image.mode)\n",
    "#multiline_text(draw, (x, y), message, box_width = 60, font=font, color=color, contour=3, contour_color=255)\n",
    "#write_contour(draw, (x, y), message, font=font, color=color)"
   ]
  },
  {
   "cell_type": "code",
   "execution_count": null,
   "metadata": {},
   "outputs": [],
   "source": [
    "image"
   ]
  },
  {
   "cell_type": "code",
   "execution_count": null,
   "metadata": {},
   "outputs": [],
   "source": [
    "image.save('example.png')"
   ]
  },
  {
   "cell_type": "code",
   "execution_count": null,
   "metadata": {},
   "outputs": [],
   "source": []
  },
  {
   "cell_type": "code",
   "execution_count": null,
   "metadata": {},
   "outputs": [],
   "source": []
  }
 ],
 "metadata": {
  "kernelspec": {
   "display_name": "Python 3",
   "language": "python",
   "name": "python3"
  },
  "language_info": {
   "codemirror_mode": {
    "name": "ipython",
    "version": 3
   },
   "file_extension": ".py",
   "mimetype": "text/x-python",
   "name": "python",
   "nbconvert_exporter": "python",
   "pygments_lexer": "ipython3",
   "version": "3.7.6"
  }
 },
 "nbformat": 4,
 "nbformat_minor": 1
}
