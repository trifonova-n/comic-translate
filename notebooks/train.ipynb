{
 "cells": [
  {
   "cell_type": "code",
   "execution_count": null,
   "metadata": {},
   "outputs": [],
   "source": [
    "from fastai.vision import *\n",
    "from pathlib import Path"
   ]
  },
  {
   "cell_type": "code",
   "execution_count": null,
   "metadata": {},
   "outputs": [],
   "source": [
    "path_img = Path(\"../data/aligned_rus/shokugeki_no_soma/31\")\n",
    "target_img = Path(\"../data/aligned_eng/shokugeki_no_soma/31\")"
   ]
  },
  {
   "cell_type": "code",
   "execution_count": null,
   "metadata": {},
   "outputs": [],
   "source": [
    "mnist = untar_data(URLs.MNIST_TINY)\n",
    "tfms = get_transforms(do_flip=False)"
   ]
  },
  {
   "cell_type": "code",
   "execution_count": null,
   "metadata": {},
   "outputs": [],
   "source": [
    "get_y_fn = lambda x: target_img/f'{x.stem}.jpg'"
   ]
  },
  {
   "cell_type": "code",
   "execution_count": null,
   "metadata": {},
   "outputs": [],
   "source": [
    "data = (ImageImageList.from_folder(path_img)\n",
    "        #Where to find the data? -> in path_img and its subfolders\n",
    "        .split_by_rand_pct()\n",
    "        #How to split in train/valid? -> randomly with the default 20% in valid\n",
    "        .label_from_func(get_y_fn)\n",
    "        #How to label? -> use the label function on the file name of the data\n",
    "        .transform(get_transforms(), tfm_y=True, size=1024)\n",
    "        #Data augmentation? -> use tfms with a size of 128, also transform the label images\n",
    "        .databunch(bs=8))"
   ]
  },
  {
   "cell_type": "code",
   "execution_count": null,
   "metadata": {},
   "outputs": [],
   "source": [
    "data.show_batch(rows=1, figsize=(10,10))"
   ]
  },
  {
   "cell_type": "code",
   "execution_count": null,
   "metadata": {},
   "outputs": [],
   "source": [
    "data.train_ds.y[1]"
   ]
  },
  {
   "cell_type": "code",
   "execution_count": null,
   "metadata": {},
   "outputs": [],
   "source": [
    "idx = 5\n",
    "x = data.train_ds.x[idx].data.clone()\n",
    "y = data.train_ds.y[idx].data.clone()\n",
    "x_mean = x.mean(dim=(1,2), keepdim=True)\n",
    "y_mean = y.mean(dim=(1,2), keepdim=True)\n",
    "x_std = x.std(dim=(1,2), keepdim=True)\n",
    "y_std = y.std(dim=(1,2), keepdim=True)\n",
    "\n",
    "x -= x_mean\n",
    "y -= y_mean\n",
    "x /= x_std\n",
    "y /= y_std\n",
    "_,axs = plt.subplots(1,3, figsize=(20,20))\n",
    "Image((x*y_std + y_mean).clamp(0, 1)).show(ax=axs[0])\n",
    "data.train_ds.y[idx].show(ax=axs[1])\n",
    "diff = (x - y).abs()\n",
    "diff *= (diff > 2.2)\n",
    "diff /= diff.max()\n",
    "Image(diff).show(ax=axs[2])\n",
    "x.shape"
   ]
  },
  {
   "cell_type": "code",
   "execution_count": null,
   "metadata": {},
   "outputs": [],
   "source": []
  }
 ],
 "metadata": {
  "kernelspec": {
   "display_name": "Python 3",
   "language": "python",
   "name": "python3"
  },
  "language_info": {
   "codemirror_mode": {
    "name": "ipython",
    "version": 3
   },
   "file_extension": ".py",
   "mimetype": "text/x-python",
   "name": "python",
   "nbconvert_exporter": "python",
   "pygments_lexer": "ipython3",
   "version": "3.7.6"
  }
 },
 "nbformat": 4,
 "nbformat_minor": 1
}
